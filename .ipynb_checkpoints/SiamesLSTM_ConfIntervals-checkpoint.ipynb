{
 "cells": [
  {
   "cell_type": "markdown",
   "metadata": {
    "colab_type": "text",
    "id": "OU69ut9uaYhR"
   },
   "source": [
    "# Mount Drive"
   ]
  },
  {
   "cell_type": "markdown",
   "metadata": {
    "colab_type": "text",
    "id": "o9dLtB_JaVrG"
   },
   "source": [
    "# Libraries"
   ]
  },
  {
   "cell_type": "code",
   "execution_count": 1,
   "metadata": {
    "colab": {
     "base_uri": "https://localhost:8080/",
     "height": 80
    },
    "colab_type": "code",
    "id": "PFlNCNaJyLNh",
    "outputId": "fda56ab3-f0a7-4a00-f291-c739116c82cb"
   },
   "outputs": [
    {
     "name": "stderr",
     "output_type": "stream",
     "text": [
      "Using TensorFlow backend.\n"
     ]
    }
   ],
   "source": [
    "import numpy as np\n",
    "from keras.models import Model\n",
    "from keras.layers import Dense, Activation, Input, Lambda,LSTM,Dropout,Bidirectional\n",
    "from sklearn.model_selection import train_test_split\n",
    "import keras.optimizers as ko\n",
    "from keras.utils import plot_model\n",
    "from keras.models import load_model\n",
    "from keras import backend as K\n",
    "import tensorflow as tf\n",
    "import librosa as lb\n",
    "import librosa.display\n",
    "import matplotlib.pyplot as plt\n",
    "from scipy.signal import freqz\n",
    "import os\n",
    "import glob\n",
    "import copy\n",
    "import seaborn as sns\n",
    "import re\n",
    "import pickle\n",
    "import operator\n",
    "import IPython.display as ipd\n",
    "import itertools\n",
    "import numpy.random as rng\n",
    "import random\n",
    "import pandas as pd"
   ]
  },
  {
   "cell_type": "markdown",
   "metadata": {
    "colab_type": "text",
    "id": "xiE45ImqyrON"
   },
   "source": [
    "# Define Keras Model"
   ]
  },
  {
   "cell_type": "code",
   "execution_count": 2,
   "metadata": {
    "colab": {},
    "colab_type": "code",
    "id": "frz9anw9cGve"
   },
   "outputs": [],
   "source": [
    "#Define Keras Model\n",
    "def LSTM_branch(input_shape):\n",
    "    input_seq = Input(shape=input_shape)\n",
    "    x = LSTM(128,return_sequences=True)(input_seq)\n",
    "    x = LSTM(128,return_sequences=True)(x)\n",
    "    x = LSTM(128)(x)\n",
    "    x = Dense(128,activation='relu')(x)\n",
    "    x = Dense(128,activation='relu')(x)\n",
    "    x = Dense(128)(x)\n",
    "    x = Dropout(0.1)(x)\n",
    "    encoded = Activation(\"linear\")(x)\n",
    "    return Model(input_seq,encoded,name=\"LSTM\")\n",
    "\n",
    "# Loss and metrics\n",
    "def euclidean_distance(vects):\n",
    "    x, y = vects\n",
    "    #return K.sqrt(K.sum(K.square(x - y), axis=-1, keepdims=True))\n",
    "    sum_square = K.sum(K.square(x - y), axis=1, keepdims=True)\n",
    "    return K.sqrt(K.maximum(sum_square, K.epsilon()))\n",
    "\n",
    "\n",
    "def eucl_dist_output_shape(shapes):\n",
    "    shape1, shape2 = shapes\n",
    "    return (shape1[0], 1)\n",
    "\n",
    "\n",
    "def contrastive_loss(y_true, y_pred):\n",
    "    '''Contrastive loss from Hadsell-et-al.'06\n",
    "    http://yann.lecun.com/exdb/publis/pdf/hadsell-chopra-lecun-06.pdf\n",
    "    '''\n",
    "    margin = 1\n",
    "    square_pred = K.square(y_pred)\n",
    "    margin_square = K.square(K.maximum(margin - y_pred, 0))\n",
    "    return K.mean(y_true * square_pred + (1 - y_true) * margin_square)\n",
    "\n",
    "def compute_accuracy(y_true, y_pred):\n",
    "    '''Compute classification accuracy with a fixed threshold on distances.\n",
    "    '''\n",
    "    pred = y_pred.ravel() < 0.5\n",
    "    return np.mean(pred == y_true)"
   ]
  },
  {
   "cell_type": "markdown",
   "metadata": {
    "colab_type": "text",
    "id": "NsiXBx9uiwSZ"
   },
   "source": [
    "# Utility Functions"
   ]
  },
  {
   "cell_type": "code",
   "execution_count": 3,
   "metadata": {
    "colab": {},
    "colab_type": "code",
    "id": "hcDwPfLjymZX"
   },
   "outputs": [],
   "source": [
    "def filter_by_freq(target,threshold):\n",
    "    filtered = dict()\n",
    "    for key in target:\n",
    "        if len(target[key]) >= threshold:\n",
    "            filtered[key] = target[key]\n",
    "    return filtered\n",
    "\n",
    "#Load support set from selection\n",
    "def create_support_set(sel_keys,selection,total,filtered,full):\n",
    "    support_set = dict()\n",
    "    for i in range(0, len(sel_keys)):\n",
    "        support_set[sel_keys[i]] = filtered[sel_keys[i]][selection[i]]\n",
    "\n",
    "    #If true adds rare phrases (those with less than 12 instances)\n",
    "    if full:\n",
    "        #load support set for rare phrases (with less than 12 tokens)\n",
    "        rare_phrases = { k : total[k] for k in set(total) - set(filtered) }\n",
    "        for key in rare_phrases.keys():\n",
    "            support_set[key]= librosa.load(rare_phrases[key][0]) #Choose the first one\n",
    "    return support_set \n",
    "\n",
    "def remv_support_set(sel_keys,selection,filtered):\n",
    "    #Remove support set instances from filtered set. \n",
    "    new_filtered = copy.deepcopy(filtered)\n",
    "    for i in range(len(sel_keys)):\n",
    "        a = new_filtered[sel_keys[i]]\n",
    "        del a[selection[i]]\n",
    "        new_filtered[sel_keys[i]] = a\n",
    "    return new_filtered\n",
    "\n",
    "def split_set(new_filtered,train_size):\n",
    "  #Returns train and test set\n",
    "    train = dict()\n",
    "    test = dict()\n",
    "    for k in new_filtered.keys():\n",
    "        #train[k],test[k] = train_test_split(new_filtered[k],train_size=train_size, random_state=rand_state)\n",
    "        train[k],test[k] = train_test_split(new_filtered[k],train_size=train_size)\n",
    "    return train, test\n",
    "\n",
    "#Generate train set for k-shot learning\n",
    "def get_batch(dataset,k,n):\n",
    "    \"\"\"Create batch of 2*n pairs per class using up to k examples, n same class, n different class\"\"\"\n",
    "    pairs = []\n",
    "    labels = []\n",
    "    categories = dataset.keys()\n",
    "\n",
    "    #Create subset of dataset with only k elements per class\n",
    "    k_set = dict()\n",
    "    for cat in categories:\n",
    "        k_set[cat] = random.sample(dataset[cat],k) #Take k samples with no replacement per class\n",
    "\n",
    "    for i in range(n):\n",
    "        for cat in categories:\n",
    "            z1, z2 = random.choice(k_set[cat]), random.choice(k_set[cat])\n",
    "            pairs += [[z1,z2]] #Same class pair\n",
    "            \n",
    "            #Pick a a different category than current \"cat\"\n",
    "            while True:   \n",
    "                notcat = random.choice(list(categories))\n",
    "                if(notcat != cat):  \n",
    "                    break  \n",
    "            z1, z2 = random.choice(k_set[cat]), random.choice(k_set[notcat])\n",
    "            pairs += [[z1,z2]] #different class pair\n",
    "            labels += [1, 0] #1 to same pairs, 0 to contrastive\n",
    "    return np.array(pairs), np.array(labels)"
   ]
  },
  {
   "cell_type": "markdown",
   "metadata": {
    "colab_type": "text",
    "id": "pW3B3mQLMtCM"
   },
   "source": [
    "# Load features from all phrases"
   ]
  },
  {
   "cell_type": "code",
   "execution_count": 4,
   "metadata": {
    "colab": {},
    "colab_type": "code",
    "id": "uqlAngYlL8Dj"
   },
   "outputs": [],
   "source": [
    "with open(\"features_total.pkl\", \"rb\") as input_file:\n",
    "    total_features = pickle.load(input_file)\n",
    "\n",
    "#Transpose vectors and compute decibels\n",
    "total_features_db = dict()\n",
    "for k in total_features.keys():\n",
    "    for i in range(len(total_features[k])):\n",
    "        total_features[k][i] = lb.amplitude_to_db(total_features[k][i],top_db=65.0)\n",
    "        total_features[k][i] = total_features[k][i].astype('int8')\n",
    "\n",
    "#Get most common phrases\n",
    "filt_features = filter_by_freq(total_features,12)\n",
    "total_features = 0"
   ]
  },
  {
   "cell_type": "markdown",
   "metadata": {
    "colab_type": "text",
    "id": "1zpUfSNUhW_p"
   },
   "source": [
    "# Support Set"
   ]
  },
  {
   "cell_type": "markdown",
   "metadata": {
    "colab_type": "text",
    "id": "onX_JvWdhaeZ"
   },
   "source": [
    "Option 1: Support set is average of phrases (It works better)"
   ]
  },
  {
   "cell_type": "code",
   "execution_count": 5,
   "metadata": {
    "colab": {},
    "colab_type": "code",
    "id": "TJMITA6Zfip_"
   },
   "outputs": [],
   "source": [
    "#Create support set from averages\n",
    "support_set = dict()\n",
    "for k in filt_features.keys():\n",
    "    support_set[k] = np.mean(filt_features[k],axis=0)\n",
    "support_set_array = np.array([s for s in list(support_set.values())])"
   ]
  },
  {
   "cell_type": "markdown",
   "metadata": {
    "colab_type": "text",
    "id": "Ja9hcxozgJcY"
   },
   "source": [
    "# Classification task"
   ]
  },
  {
   "cell_type": "code",
   "execution_count": 6,
   "metadata": {
    "colab": {},
    "colab_type": "code",
    "id": "FLV0BAUYgHVo"
   },
   "outputs": [],
   "source": [
    "#Create classification set\n",
    "def create_classif_task(test_set):\n",
    "    classif_test = []\n",
    "    classif_labels = []\n",
    "\n",
    "    #use the full test set\n",
    "    for k in test_set.keys():\n",
    "        for a in test_set[k]:\n",
    "            classif_test.append(a)\n",
    "            classif_labels.append(k)\n",
    "    return (np.array(classif_test),classif_labels)\n",
    "\n",
    "def get_predictions(support_set,classif_test,model):\n",
    "    predictions = []\n",
    "    support_set_array = np.array([s for s in list(support_set.values())])\n",
    "    classif_test_repeated = np.repeat(classif_test,len(support_set_array),axis=0)\n",
    "    I, L = pd.factorize(list(support_set.keys()))\n",
    "    for k in range(len(classif_test)):\n",
    "        pred_support = model.predict([classif_test_repeated[32*k:32+32*k],support_set_array]).ravel()\n",
    "        pred_class = np.where(pred_support == np.min(pred_support))[0][0]\n",
    "        predictions.append(L[pred_class])\n",
    "    return predictions"
   ]
  },
  {
   "cell_type": "markdown",
   "metadata": {
    "colab_type": "text",
    "id": "E-MXnC_E1zuy"
   },
   "source": [
    "# Main functions"
   ]
  },
  {
   "cell_type": "code",
   "execution_count": 8,
   "metadata": {
    "colab": {},
    "colab_type": "code",
    "id": "kRYtqp4G15TF"
   },
   "outputs": [],
   "source": [
    "def train_model(x,y,labels,epochs):\n",
    "    \"Creates, trains and returns trained model\"\n",
    "    input_shape = (64,128) #(Timesteps,n_features)\n",
    "    lstm = LSTM_branch(input_shape)\n",
    "    inputA = Input(shape=input_shape,name=\"InputA\")\n",
    "    inputB = Input(shape=input_shape,name=\"InputB\")\n",
    "    encodedA = lstm(inputA)\n",
    "    encodedB = lstm(inputB)\n",
    "    distance = Lambda(euclidean_distance,output_shape=eucl_dist_output_shape,name=\"distance\")([encodedA, encodedB])\n",
    "    model = Model(input=[inputA,inputB],output=distance)\n",
    "    model.compile(optimizer='adam', loss=contrastive_loss)\n",
    "    history = model.fit([x, y],labels,epochs=epochs,batch_size=256,shuffle=True)\n",
    "    return model, history.history['loss']\n",
    "\n",
    "def generate_sets(k):\n",
    "#Generate train_test set\n",
    "    train_set, test_set = split_set(filt_features,k)\n",
    "    train_pairs, train_labels =  get_batch(train_set,k,1000)\n",
    "    min_phrases_test = min([len(i) for i in test_set.values()])\n",
    "    test_pairs, test_labels = get_batch(test_set,min_phrases_test,100)\n",
    "    te1 = test_pairs[:,0,:,:]\n",
    "    te2 = test_pairs[:,1,:,:]\n",
    "    tr1 = train_pairs[:,0,:,:]\n",
    "    tr2 = train_pairs[:,1,:,:]\n",
    "    return tr1,tr2,train_labels,train_set,te1,te2,test_labels,test_set\n",
    "\n",
    "def compute_one_run(k,epochs):\n",
    "    tr1,tr2,train_labels,train_set,te1,te2,test_labels,test_set = generate_sets(k)\n",
    "    model, history = train_model(tr1,tr2,train_labels,epochs)\n",
    "\n",
    "    #Verification task evaluation (test)\n",
    "    v_pred_te = model.predict([te1,te2])\n",
    "    v_acc_te = compute_accuracy(test_labels,v_pred_te)\n",
    "\n",
    "    #Verification task evaluation (train)\n",
    "    v_pred_tr = model.predict([tr1,tr2])\n",
    "    v_acc_tr = compute_accuracy(train_labels,v_pred_tr)\n",
    "\n",
    "    #Classification task evaluation (test)\n",
    "    classif_test, classif_labels_test = create_classif_task(test_set)\n",
    "    predictions_test = get_predictions(support_set,classif_test,model)\n",
    "    c_acc_te = np.mean([predictions_test[i] == classif_labels_test[i] for i in range(len(predictions_test))])\n",
    "    \n",
    "    #Classification task evaluation (train)\n",
    "    classif_train, classif_labels_train = create_classif_task(train_set)\n",
    "    predictions_train = get_predictions(support_set,classif_train,model)\n",
    "    c_acc_tr = np.mean([predictions_train[i] == classif_labels_train[i] for i in range(len(predictions_train))])\n",
    "\n",
    "    #Accuracy per class (test)\n",
    "    acc_c_class_test = dict()\n",
    "    for k in test_set.keys():\n",
    "        k_indices = list(filter(lambda x: classif_labels_test[x] == k, range(len(classif_labels_test))))\n",
    "        acc_c_class_test[k] = np.mean([predictions_test[i] == classif_labels_test[i] for i in k_indices])\n",
    "    \n",
    "    #Accuracy per class (train)\n",
    "    acc_c_class_train = dict()\n",
    "    for k in train_set.keys():\n",
    "        k_indices = list(filter(lambda x: classif_labels_train[x] == k, range(len(classif_labels_train))))\n",
    "        acc_c_class_train[k] = np.mean([predictions_train[i] == classif_labels_train[i] for i in k_indices])\n",
    "\n",
    "    return (v_acc_tr,v_acc_te,c_acc_tr,c_acc_te,acc_c_class_train,acc_c_class_test,history)"
   ]
  },
  {
   "cell_type": "markdown",
   "metadata": {
    "colab_type": "text",
    "id": "Yn6sY6CjckCl"
   },
   "source": [
    "# Get and save results"
   ]
  },
  {
   "cell_type": "code",
   "execution_count": null,
   "metadata": {
    "colab": {
     "base_uri": "https://localhost:8080/",
     "height": 785
    },
    "colab_type": "code",
    "id": "wEkUA-d9ALBb",
    "outputId": "5dbe187b-e3c9-4e76-9ae7-26da8a089d5d"
   },
   "outputs": [
    {
     "name": "stdout",
     "output_type": "stream",
     "text": [
      "Experiment: 1 from 30\n"
     ]
    },
    {
     "name": "stderr",
     "output_type": "stream",
     "text": [
      "/home/santiago/anaconda3/envs/tf2-gpu/lib/python3.6/site-packages/ipykernel_launcher.py:10: UserWarning: Update your `Model` call to the Keras 2 API: `Model(inputs=[<tf.Tenso..., outputs=Tensor(\"di...)`\n",
      "  # Remove the CWD from sys.path while we load stuff.\n"
     ]
    },
    {
     "name": "stdout",
     "output_type": "stream",
     "text": [
      "Epoch 1/5\n",
      "64000/64000 [==============================] - 56s 878us/step - loss: 0.1004\n",
      "Epoch 2/5\n",
      "64000/64000 [==============================] - 54s 851us/step - loss: 0.0604\n",
      "Epoch 3/5\n",
      "64000/64000 [==============================] - 55s 856us/step - loss: 0.0524\n",
      "Epoch 4/5\n",
      "64000/64000 [==============================] - 55s 856us/step - loss: 0.0603\n",
      "Epoch 5/5\n",
      "64000/64000 [==============================] - 55s 861us/step - loss: 0.0493\n",
      "Experiment: 2 from 30\n"
     ]
    },
    {
     "name": "stderr",
     "output_type": "stream",
     "text": [
      "/home/santiago/anaconda3/envs/tf2-gpu/lib/python3.6/site-packages/ipykernel_launcher.py:10: UserWarning: Update your `Model` call to the Keras 2 API: `Model(inputs=[<tf.Tenso..., outputs=Tensor(\"di...)`\n",
      "  # Remove the CWD from sys.path while we load stuff.\n"
     ]
    },
    {
     "name": "stdout",
     "output_type": "stream",
     "text": [
      "Epoch 1/5\n",
      "64000/64000 [==============================] - 57s 886us/step - loss: 0.0934\n",
      "Epoch 2/5\n",
      "64000/64000 [==============================] - 55s 856us/step - loss: 0.0612\n",
      "Epoch 3/5\n",
      "64000/64000 [==============================] - 55s 859us/step - loss: 0.0532\n",
      "Epoch 4/5\n",
      "64000/64000 [==============================] - 55s 861us/step - loss: 0.0606\n",
      "Epoch 5/5\n",
      "64000/64000 [==============================] - 55s 860us/step - loss: 0.0510\n",
      "Experiment: 3 from 30\n"
     ]
    },
    {
     "name": "stderr",
     "output_type": "stream",
     "text": [
      "/home/santiago/anaconda3/envs/tf2-gpu/lib/python3.6/site-packages/ipykernel_launcher.py:10: UserWarning: Update your `Model` call to the Keras 2 API: `Model(inputs=[<tf.Tenso..., outputs=Tensor(\"di...)`\n",
      "  # Remove the CWD from sys.path while we load stuff.\n"
     ]
    },
    {
     "name": "stdout",
     "output_type": "stream",
     "text": [
      "Epoch 1/5\n",
      "64000/64000 [==============================] - 56s 882us/step - loss: 0.1000\n",
      "Epoch 2/5\n",
      "64000/64000 [==============================] - 55s 856us/step - loss: 0.0603\n",
      "Epoch 3/5\n",
      "64000/64000 [==============================] - 55s 858us/step - loss: 0.0537\n",
      "Epoch 4/5\n",
      "64000/64000 [==============================] - 55s 857us/step - loss: 0.0508\n",
      "Epoch 5/5\n",
      "64000/64000 [==============================] - 55s 859us/step - loss: 0.0495\n",
      "Experiment: 4 from 30\n"
     ]
    },
    {
     "name": "stderr",
     "output_type": "stream",
     "text": [
      "/home/santiago/anaconda3/envs/tf2-gpu/lib/python3.6/site-packages/ipykernel_launcher.py:10: UserWarning: Update your `Model` call to the Keras 2 API: `Model(inputs=[<tf.Tenso..., outputs=Tensor(\"di...)`\n",
      "  # Remove the CWD from sys.path while we load stuff.\n"
     ]
    },
    {
     "name": "stdout",
     "output_type": "stream",
     "text": [
      "Epoch 1/5\n",
      "64000/64000 [==============================] - 56s 869us/step - loss: 0.0991\n",
      "Epoch 2/5\n",
      "64000/64000 [==============================] - 54s 838us/step - loss: 0.0605\n",
      "Epoch 3/5\n",
      "64000/64000 [==============================] - 54s 844us/step - loss: 0.0530\n",
      "Epoch 4/5\n",
      "64000/64000 [==============================] - 54s 840us/step - loss: 0.0499\n",
      "Epoch 5/5\n",
      "64000/64000 [==============================] - 54s 842us/step - loss: 0.0483\n",
      "Experiment: 5 from 30\n"
     ]
    },
    {
     "name": "stderr",
     "output_type": "stream",
     "text": [
      "/home/santiago/anaconda3/envs/tf2-gpu/lib/python3.6/site-packages/ipykernel_launcher.py:10: UserWarning: Update your `Model` call to the Keras 2 API: `Model(inputs=[<tf.Tenso..., outputs=Tensor(\"di...)`\n",
      "  # Remove the CWD from sys.path while we load stuff.\n"
     ]
    },
    {
     "name": "stdout",
     "output_type": "stream",
     "text": [
      "Epoch 1/5\n",
      "64000/64000 [==============================] - 56s 870us/step - loss: 0.0966\n",
      "Epoch 2/5\n",
      "64000/64000 [==============================] - 54s 837us/step - loss: 0.0579\n",
      "Epoch 3/5\n",
      "64000/64000 [==============================] - 54s 840us/step - loss: 0.0534\n",
      "Epoch 4/5\n",
      "64000/64000 [==============================] - 54s 840us/step - loss: 0.0495\n",
      "Epoch 5/5\n",
      "64000/64000 [==============================] - 54s 843us/step - loss: 0.0479\n",
      "Experiment: 6 from 30\n"
     ]
    },
    {
     "name": "stderr",
     "output_type": "stream",
     "text": [
      "/home/santiago/anaconda3/envs/tf2-gpu/lib/python3.6/site-packages/ipykernel_launcher.py:10: UserWarning: Update your `Model` call to the Keras 2 API: `Model(inputs=[<tf.Tenso..., outputs=Tensor(\"di...)`\n",
      "  # Remove the CWD from sys.path while we load stuff.\n"
     ]
    },
    {
     "name": "stdout",
     "output_type": "stream",
     "text": [
      "Epoch 1/5\n",
      "64000/64000 [==============================] - 56s 871us/step - loss: 0.1033\n",
      "Epoch 2/5\n",
      "64000/64000 [==============================] - 54s 841us/step - loss: 0.0594\n",
      "Epoch 3/5\n",
      "64000/64000 [==============================] - 54s 841us/step - loss: 0.0516\n",
      "Epoch 4/5\n",
      "64000/64000 [==============================] - 55s 854us/step - loss: 0.0653\n",
      "Epoch 5/5\n",
      "64000/64000 [==============================] - 54s 843us/step - loss: 0.0564\n",
      "Experiment: 7 from 30\n"
     ]
    },
    {
     "name": "stderr",
     "output_type": "stream",
     "text": [
      "/home/santiago/anaconda3/envs/tf2-gpu/lib/python3.6/site-packages/ipykernel_launcher.py:10: UserWarning: Update your `Model` call to the Keras 2 API: `Model(inputs=[<tf.Tenso..., outputs=Tensor(\"di...)`\n",
      "  # Remove the CWD from sys.path while we load stuff.\n"
     ]
    },
    {
     "name": "stdout",
     "output_type": "stream",
     "text": [
      "Epoch 1/5\n",
      "64000/64000 [==============================] - 56s 869us/step - loss: 0.0999\n",
      "Epoch 2/5\n",
      "64000/64000 [==============================] - 54s 837us/step - loss: 0.0589\n",
      "Epoch 3/5\n",
      "64000/64000 [==============================] - 54s 837us/step - loss: 0.0514\n",
      "Epoch 4/5\n",
      "64000/64000 [==============================] - 54s 843us/step - loss: 0.0731\n",
      "Epoch 5/5\n",
      "64000/64000 [==============================] - 54s 846us/step - loss: 0.0548\n",
      "Experiment: 8 from 30\n"
     ]
    },
    {
     "name": "stderr",
     "output_type": "stream",
     "text": [
      "/home/santiago/anaconda3/envs/tf2-gpu/lib/python3.6/site-packages/ipykernel_launcher.py:10: UserWarning: Update your `Model` call to the Keras 2 API: `Model(inputs=[<tf.Tenso..., outputs=Tensor(\"di...)`\n",
      "  # Remove the CWD from sys.path while we load stuff.\n"
     ]
    },
    {
     "name": "stdout",
     "output_type": "stream",
     "text": [
      "Epoch 1/5\n",
      "64000/64000 [==============================] - 56s 869us/step - loss: 0.1043\n",
      "Epoch 2/5\n",
      "64000/64000 [==============================] - 54s 840us/step - loss: 0.0612\n",
      "Epoch 3/5\n",
      "64000/64000 [==============================] - 54s 840us/step - loss: 0.0522\n",
      "Epoch 4/5\n",
      "64000/64000 [==============================] - 54s 838us/step - loss: 0.0496\n",
      "Epoch 5/5\n",
      "64000/64000 [==============================] - 54s 841us/step - loss: 0.0487\n",
      "Experiment: 9 from 30\n"
     ]
    },
    {
     "name": "stderr",
     "output_type": "stream",
     "text": [
      "/home/santiago/anaconda3/envs/tf2-gpu/lib/python3.6/site-packages/ipykernel_launcher.py:10: UserWarning: Update your `Model` call to the Keras 2 API: `Model(inputs=[<tf.Tenso..., outputs=Tensor(\"di...)`\n",
      "  # Remove the CWD from sys.path while we load stuff.\n"
     ]
    },
    {
     "name": "stdout",
     "output_type": "stream",
     "text": [
      "Epoch 1/5\n",
      "64000/64000 [==============================] - 56s 869us/step - loss: 0.1010\n",
      "Epoch 2/5\n",
      "64000/64000 [==============================] - 53s 836us/step - loss: 0.0580\n",
      "Epoch 3/5\n",
      "64000/64000 [==============================] - 53s 835us/step - loss: 0.0593\n",
      "Epoch 4/5\n",
      "64000/64000 [==============================] - 54s 844us/step - loss: 0.0502\n",
      "Epoch 5/5\n",
      "64000/64000 [==============================] - 54s 839us/step - loss: 0.0495\n",
      "Experiment: 10 from 30\n"
     ]
    },
    {
     "name": "stderr",
     "output_type": "stream",
     "text": [
      "/home/santiago/anaconda3/envs/tf2-gpu/lib/python3.6/site-packages/ipykernel_launcher.py:10: UserWarning: Update your `Model` call to the Keras 2 API: `Model(inputs=[<tf.Tenso..., outputs=Tensor(\"di...)`\n",
      "  # Remove the CWD from sys.path while we load stuff.\n"
     ]
    },
    {
     "name": "stdout",
     "output_type": "stream",
     "text": [
      "Epoch 1/5\n",
      "64000/64000 [==============================] - 56s 872us/step - loss: 0.1067\n",
      "Epoch 2/5\n",
      "64000/64000 [==============================] - 54s 842us/step - loss: 0.0631\n",
      "Epoch 3/5\n",
      "64000/64000 [==============================] - 54s 841us/step - loss: 0.0530\n",
      "Epoch 4/5\n",
      "64000/64000 [==============================] - 54s 842us/step - loss: 0.0505\n",
      "Epoch 5/5\n",
      "64000/64000 [==============================] - 54s 847us/step - loss: 0.0692\n",
      "Experiment: 11 from 30\n"
     ]
    },
    {
     "name": "stderr",
     "output_type": "stream",
     "text": [
      "/home/santiago/anaconda3/envs/tf2-gpu/lib/python3.6/site-packages/ipykernel_launcher.py:10: UserWarning: Update your `Model` call to the Keras 2 API: `Model(inputs=[<tf.Tenso..., outputs=Tensor(\"di...)`\n",
      "  # Remove the CWD from sys.path while we load stuff.\n"
     ]
    },
    {
     "name": "stdout",
     "output_type": "stream",
     "text": [
      "Epoch 1/5\n",
      "64000/64000 [==============================] - 56s 873us/step - loss: 0.0915\n",
      "Epoch 2/5\n",
      "64000/64000 [==============================] - 54s 843us/step - loss: 0.0556\n",
      "Epoch 3/5\n",
      "64000/64000 [==============================] - 54s 841us/step - loss: 0.0514\n",
      "Epoch 4/5\n",
      "64000/64000 [==============================] - 54s 841us/step - loss: 0.0591\n",
      "Epoch 5/5\n",
      "64000/64000 [==============================] - 54s 845us/step - loss: 0.0500\n",
      "Experiment: 12 from 30\n"
     ]
    },
    {
     "name": "stderr",
     "output_type": "stream",
     "text": [
      "/home/santiago/anaconda3/envs/tf2-gpu/lib/python3.6/site-packages/ipykernel_launcher.py:10: UserWarning: Update your `Model` call to the Keras 2 API: `Model(inputs=[<tf.Tenso..., outputs=Tensor(\"di...)`\n",
      "  # Remove the CWD from sys.path while we load stuff.\n"
     ]
    },
    {
     "name": "stdout",
     "output_type": "stream",
     "text": [
      "Epoch 1/5\n",
      "64000/64000 [==============================] - 56s 876us/step - loss: 0.0957\n",
      "Epoch 2/5\n",
      "64000/64000 [==============================] - 54s 845us/step - loss: 0.0576\n",
      "Epoch 3/5\n",
      "64000/64000 [==============================] - 54s 844us/step - loss: 0.0537\n",
      "Epoch 4/5\n",
      "64000/64000 [==============================] - 54s 845us/step - loss: 0.0812\n",
      "Epoch 5/5\n",
      "64000/64000 [==============================] - 54s 845us/step - loss: 0.0528\n",
      "Experiment: 13 from 30\n"
     ]
    },
    {
     "name": "stderr",
     "output_type": "stream",
     "text": [
      "/home/santiago/anaconda3/envs/tf2-gpu/lib/python3.6/site-packages/ipykernel_launcher.py:10: UserWarning: Update your `Model` call to the Keras 2 API: `Model(inputs=[<tf.Tenso..., outputs=Tensor(\"di...)`\n",
      "  # Remove the CWD from sys.path while we load stuff.\n"
     ]
    },
    {
     "name": "stdout",
     "output_type": "stream",
     "text": [
      "Epoch 1/5\n",
      "64000/64000 [==============================] - 55s 867us/step - loss: 0.1027\n",
      "Epoch 2/5\n",
      "64000/64000 [==============================] - 54s 837us/step - loss: 0.0589\n",
      "Epoch 3/5\n",
      "64000/64000 [==============================] - 53s 835us/step - loss: 0.0571\n",
      "Epoch 4/5\n",
      "64000/64000 [==============================] - 54s 836us/step - loss: 0.0697\n",
      "Epoch 5/5\n",
      "64000/64000 [==============================] - 54s 836us/step - loss: 0.0520\n",
      "Experiment: 14 from 30\n"
     ]
    },
    {
     "name": "stderr",
     "output_type": "stream",
     "text": [
      "/home/santiago/anaconda3/envs/tf2-gpu/lib/python3.6/site-packages/ipykernel_launcher.py:10: UserWarning: Update your `Model` call to the Keras 2 API: `Model(inputs=[<tf.Tenso..., outputs=Tensor(\"di...)`\n",
      "  # Remove the CWD from sys.path while we load stuff.\n"
     ]
    },
    {
     "name": "stdout",
     "output_type": "stream",
     "text": [
      "Epoch 1/5\n",
      "64000/64000 [==============================] - 56s 871us/step - loss: 0.0975\n",
      "Epoch 2/5\n",
      "64000/64000 [==============================] - 54s 840us/step - loss: 0.0574\n",
      "Epoch 3/5\n",
      "64000/64000 [==============================] - 54s 840us/step - loss: 0.0515\n",
      "Epoch 4/5\n",
      "64000/64000 [==============================] - 54s 841us/step - loss: 0.0650\n",
      "Epoch 5/5\n",
      "64000/64000 [==============================] - 54s 841us/step - loss: 0.0571\n",
      "Experiment: 15 from 30\n"
     ]
    },
    {
     "name": "stderr",
     "output_type": "stream",
     "text": [
      "/home/santiago/anaconda3/envs/tf2-gpu/lib/python3.6/site-packages/ipykernel_launcher.py:10: UserWarning: Update your `Model` call to the Keras 2 API: `Model(inputs=[<tf.Tenso..., outputs=Tensor(\"di...)`\n",
      "  # Remove the CWD from sys.path while we load stuff.\n"
     ]
    },
    {
     "name": "stdout",
     "output_type": "stream",
     "text": [
      "Epoch 1/5\n",
      "64000/64000 [==============================] - 55s 862us/step - loss: 0.0996\n",
      "Epoch 2/5\n",
      "64000/64000 [==============================] - 53s 832us/step - loss: 0.0601\n",
      "Epoch 3/5\n",
      "64000/64000 [==============================] - 53s 832us/step - loss: 0.0536\n",
      "Epoch 4/5\n",
      "64000/64000 [==============================] - 53s 833us/step - loss: 0.0502\n",
      "Epoch 5/5\n",
      "64000/64000 [==============================] - 53s 833us/step - loss: 0.0523\n",
      "Experiment: 16 from 30\n"
     ]
    },
    {
     "name": "stderr",
     "output_type": "stream",
     "text": [
      "/home/santiago/anaconda3/envs/tf2-gpu/lib/python3.6/site-packages/ipykernel_launcher.py:10: UserWarning: Update your `Model` call to the Keras 2 API: `Model(inputs=[<tf.Tenso..., outputs=Tensor(\"di...)`\n",
      "  # Remove the CWD from sys.path while we load stuff.\n"
     ]
    },
    {
     "name": "stdout",
     "output_type": "stream",
     "text": [
      "Epoch 1/5\n",
      "64000/64000 [==============================] - 55s 866us/step - loss: 0.0983\n",
      "Epoch 2/5\n",
      "64000/64000 [==============================] - 53s 835us/step - loss: 0.0594\n",
      "Epoch 3/5\n",
      "64000/64000 [==============================] - 53s 836us/step - loss: 0.0574\n",
      "Epoch 4/5\n",
      "64000/64000 [==============================] - 54s 837us/step - loss: 0.0505\n",
      "Epoch 5/5\n",
      "64000/64000 [==============================] - 54s 836us/step - loss: 0.0483\n",
      "Experiment: 17 from 30\n"
     ]
    },
    {
     "name": "stderr",
     "output_type": "stream",
     "text": [
      "/home/santiago/anaconda3/envs/tf2-gpu/lib/python3.6/site-packages/ipykernel_launcher.py:10: UserWarning: Update your `Model` call to the Keras 2 API: `Model(inputs=[<tf.Tenso..., outputs=Tensor(\"di...)`\n",
      "  # Remove the CWD from sys.path while we load stuff.\n"
     ]
    },
    {
     "name": "stdout",
     "output_type": "stream",
     "text": [
      "Epoch 1/5\n",
      "64000/64000 [==============================] - 55s 864us/step - loss: 0.0964\n",
      "Epoch 2/5\n",
      "64000/64000 [==============================] - 53s 835us/step - loss: 0.0563\n",
      "Epoch 3/5\n",
      "64000/64000 [==============================] - 53s 834us/step - loss: 0.0510\n",
      "Epoch 4/5\n",
      "64000/64000 [==============================] - 53s 835us/step - loss: 0.0652\n",
      "Epoch 5/5\n",
      "64000/64000 [==============================] - 53s 835us/step - loss: 0.0580\n",
      "Experiment: 18 from 30\n"
     ]
    },
    {
     "name": "stderr",
     "output_type": "stream",
     "text": [
      "/home/santiago/anaconda3/envs/tf2-gpu/lib/python3.6/site-packages/ipykernel_launcher.py:10: UserWarning: Update your `Model` call to the Keras 2 API: `Model(inputs=[<tf.Tenso..., outputs=Tensor(\"di...)`\n",
      "  # Remove the CWD from sys.path while we load stuff.\n"
     ]
    },
    {
     "name": "stdout",
     "output_type": "stream",
     "text": [
      "Epoch 1/5\n",
      "64000/64000 [==============================] - 56s 869us/step - loss: 0.0965\n",
      "Epoch 2/5\n",
      "64000/64000 [==============================] - 54s 839us/step - loss: 0.0567\n",
      "Epoch 3/5\n",
      "64000/64000 [==============================] - 54s 841us/step - loss: 0.0526\n",
      "Epoch 4/5\n",
      "64000/64000 [==============================] - 54s 839us/step - loss: 0.0497\n",
      "Epoch 5/5\n",
      "64000/64000 [==============================] - 54s 837us/step - loss: 0.0486\n",
      "Experiment: 19 from 30\n"
     ]
    },
    {
     "name": "stderr",
     "output_type": "stream",
     "text": [
      "/home/santiago/anaconda3/envs/tf2-gpu/lib/python3.6/site-packages/ipykernel_launcher.py:10: UserWarning: Update your `Model` call to the Keras 2 API: `Model(inputs=[<tf.Tenso..., outputs=Tensor(\"di...)`\n",
      "  # Remove the CWD from sys.path while we load stuff.\n"
     ]
    },
    {
     "name": "stdout",
     "output_type": "stream",
     "text": [
      "Epoch 1/5\n",
      "64000/64000 [==============================] - 58s 908us/step - loss: 0.1020\n",
      "Epoch 2/5\n",
      "64000/64000 [==============================] - 54s 848us/step - loss: 0.0611\n",
      "Epoch 3/5\n",
      "64000/64000 [==============================] - 55s 856us/step - loss: 0.0536\n",
      "Epoch 4/5\n",
      "64000/64000 [==============================] - 55s 854us/step - loss: 0.0798\n",
      "Epoch 5/5\n",
      "64000/64000 [==============================] - 55s 853us/step - loss: 0.0689\n",
      "Experiment: 20 from 30\n"
     ]
    },
    {
     "name": "stderr",
     "output_type": "stream",
     "text": [
      "/home/santiago/anaconda3/envs/tf2-gpu/lib/python3.6/site-packages/ipykernel_launcher.py:10: UserWarning: Update your `Model` call to the Keras 2 API: `Model(inputs=[<tf.Tenso..., outputs=Tensor(\"di...)`\n",
      "  # Remove the CWD from sys.path while we load stuff.\n"
     ]
    },
    {
     "name": "stdout",
     "output_type": "stream",
     "text": [
      "Epoch 1/5\n",
      "64000/64000 [==============================] - 57s 895us/step - loss: 0.0994\n",
      "Epoch 2/5\n",
      "64000/64000 [==============================] - 54s 843us/step - loss: 0.0582\n",
      "Epoch 3/5\n",
      "64000/64000 [==============================] - 54s 843us/step - loss: 0.0561\n",
      "Epoch 4/5\n",
      "64000/64000 [==============================] - 54s 845us/step - loss: 0.0526\n",
      "Epoch 5/5\n",
      "64000/64000 [==============================] - 54s 841us/step - loss: 0.0489\n",
      "Experiment: 21 from 30\n"
     ]
    },
    {
     "name": "stderr",
     "output_type": "stream",
     "text": [
      "/home/santiago/anaconda3/envs/tf2-gpu/lib/python3.6/site-packages/ipykernel_launcher.py:10: UserWarning: Update your `Model` call to the Keras 2 API: `Model(inputs=[<tf.Tenso..., outputs=Tensor(\"di...)`\n",
      "  # Remove the CWD from sys.path while we load stuff.\n"
     ]
    },
    {
     "name": "stdout",
     "output_type": "stream",
     "text": [
      "Epoch 1/5\n",
      "64000/64000 [==============================] - 57s 894us/step - loss: 0.0986\n",
      "Epoch 2/5\n",
      "64000/64000 [==============================] - 55s 856us/step - loss: 0.0545\n",
      "Epoch 3/5\n",
      "64000/64000 [==============================] - 54s 842us/step - loss: 0.0523\n",
      "Epoch 4/5\n",
      "64000/64000 [==============================] - 54s 840us/step - loss: 0.0493\n",
      "Epoch 5/5\n",
      "64000/64000 [==============================] - 54s 840us/step - loss: 0.0485\n",
      "Experiment: 22 from 30\n"
     ]
    },
    {
     "name": "stderr",
     "output_type": "stream",
     "text": [
      "/home/santiago/anaconda3/envs/tf2-gpu/lib/python3.6/site-packages/ipykernel_launcher.py:10: UserWarning: Update your `Model` call to the Keras 2 API: `Model(inputs=[<tf.Tenso..., outputs=Tensor(\"di...)`\n",
      "  # Remove the CWD from sys.path while we load stuff.\n"
     ]
    },
    {
     "name": "stdout",
     "output_type": "stream",
     "text": [
      "Epoch 1/5\n",
      "64000/64000 [==============================] - 55s 866us/step - loss: 0.1018\n",
      "Epoch 2/5\n",
      "64000/64000 [==============================] - 53s 834us/step - loss: 0.0617\n",
      "Epoch 3/5\n",
      "64000/64000 [==============================] - 53s 833us/step - loss: 0.0527\n",
      "Epoch 4/5\n",
      "64000/64000 [==============================] - 53s 834us/step - loss: 0.0496\n",
      "Epoch 5/5\n",
      "64000/64000 [==============================] - 53s 833us/step - loss: 0.0665\n",
      "Experiment: 23 from 30\n"
     ]
    },
    {
     "name": "stderr",
     "output_type": "stream",
     "text": [
      "/home/santiago/anaconda3/envs/tf2-gpu/lib/python3.6/site-packages/ipykernel_launcher.py:10: UserWarning: Update your `Model` call to the Keras 2 API: `Model(inputs=[<tf.Tenso..., outputs=Tensor(\"di...)`\n",
      "  # Remove the CWD from sys.path while we load stuff.\n"
     ]
    },
    {
     "name": "stdout",
     "output_type": "stream",
     "text": [
      "Epoch 1/5\n",
      "64000/64000 [==============================] - 58s 900us/step - loss: 0.1046\n",
      "Epoch 2/5\n",
      "64000/64000 [==============================] - 54s 840us/step - loss: 0.0623\n",
      "Epoch 3/5\n",
      "64000/64000 [==============================] - 54s 841us/step - loss: 0.0529\n",
      "Epoch 4/5\n",
      "64000/64000 [==============================] - 54s 839us/step - loss: 0.0500\n",
      "Epoch 5/5\n",
      "64000/64000 [==============================] - 54s 840us/step - loss: 0.0583\n",
      "Experiment: 24 from 30\n"
     ]
    },
    {
     "name": "stderr",
     "output_type": "stream",
     "text": [
      "/home/santiago/anaconda3/envs/tf2-gpu/lib/python3.6/site-packages/ipykernel_launcher.py:10: UserWarning: Update your `Model` call to the Keras 2 API: `Model(inputs=[<tf.Tenso..., outputs=Tensor(\"di...)`\n",
      "  # Remove the CWD from sys.path while we load stuff.\n"
     ]
    },
    {
     "name": "stdout",
     "output_type": "stream",
     "text": [
      "Epoch 1/5\n",
      "21248/64000 [========>.....................] - ETA: 2:37:00 - loss: 0.1350 ETA: 1:48:29 - loss: 0. - ETA: 9:29:58 - loss: 0.21 - ETA: 9:44:18 - loss:  - ETA: 8:45:58 - loss: 0.19 - ETA: 8:09:14 - loss: 0. - ETA: 7:32:21 - loss: 0. - ETA: 7:05:34 - loss:  - ETA: 6:35:14 - loss: 0.17 - ETA: 6:19:01 -  - ETA: 5:17:34  - ETA: 4:40:00 - loss: 0.15 - ETA: 4:33:38 - loss: 0. - ETA: 4:22 - ETA: 3:55:59 -  - ETA: 3:36:51  - ETA: 3:15:28 - loss: 0.14 - ETA: 3:12:47 - loss:  - ETA: 3:05:51 - loss: 0.14 - ETA: 3:06:34 - loss:  - ETA: 2:58:34 - loss:  - ETA: 2:54:21 - loss: 0. - ETA: 2:52:34  - ETA: 2:41:16 - loss:  - ETA: 2:38:14 - loss: "
     ]
    }
   ],
   "source": [
    "H = []\n",
    "n = 30\n",
    "for i in range(n):\n",
    "    print(\"Experiment: \" + str(i+1) + \" from \" + str(n))\n",
    "    X = compute_one_run(k=7,epochs=5)\n",
    "    H.append(X)\n",
    "    K.clear_session()"
   ]
  },
  {
   "cell_type": "code",
   "execution_count": null,
   "metadata": {
    "colab": {},
    "colab_type": "code",
    "id": "yFRUg4ljbzwi"
   },
   "outputs": [],
   "source": [
    "with open('k7.pickle', 'wb') as f:\n",
    "    pickle.dump(H, f)"
   ]
  },
  {
   "cell_type": "code",
   "execution_count": null,
   "metadata": {
    "colab": {},
    "colab_type": "code",
    "id": "2F0BI-fgcV2k"
   },
   "outputs": [],
   "source": [
    "#x is an array containing tuples of the form: \n",
    "#(v_acc_tr,v_acc_te,c_acc_tr,c_acc_te,acc_c_class_train,acc_c_class_test,history)\n",
    "with open('k7.pickle', 'rb') as f:\n",
    "    x = pickle.load(f)"
   ]
  },
  {
   "cell_type": "code",
   "execution_count": null,
   "metadata": {},
   "outputs": [],
   "source": []
  }
 ],
 "metadata": {
  "accelerator": "GPU",
  "colab": {
   "collapsed_sections": [
    "o9dLtB_JaVrG",
    "xiE45ImqyrON",
    "NsiXBx9uiwSZ",
    "pW3B3mQLMtCM",
    "1zpUfSNUhW_p"
   ],
   "name": "SiamesLSTM_ConfIntervals.ipynb",
   "provenance": [],
   "toc_visible": true
  },
  "kernelspec": {
   "display_name": "Python 3",
   "language": "python",
   "name": "python3"
  },
  "language_info": {
   "codemirror_mode": {
    "name": "ipython",
    "version": 3
   },
   "file_extension": ".py",
   "mimetype": "text/x-python",
   "name": "python",
   "nbconvert_exporter": "python",
   "pygments_lexer": "ipython3",
   "version": "3.6.9"
  }
 },
 "nbformat": 4,
 "nbformat_minor": 1
}

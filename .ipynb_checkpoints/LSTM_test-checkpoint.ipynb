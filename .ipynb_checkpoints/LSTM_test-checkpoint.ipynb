{
 "cells": [
  {
   "cell_type": "markdown",
   "metadata": {},
   "source": [
    "# Import"
   ]
  },
  {
   "cell_type": "code",
   "execution_count": 1,
   "metadata": {},
   "outputs": [
    {
     "name": "stderr",
     "output_type": "stream",
     "text": [
      "Using TensorFlow backend.\n"
     ]
    }
   ],
   "source": [
    "import numpy as np\n",
    "from keras.models import Model\n",
    "from keras.layers import Dense,Bidirectional,Activation, Input, Lambda,LSTM,Dropout,ConvLSTM2D,Conv2D,Conv1D,MaxPooling2D,MaxPooling1D, GlobalMaxPooling1D,Reshape, Flatten,TimeDistributed\n",
    "from sklearn.model_selection import train_test_split\n",
    "import keras.optimizers as ko\n",
    "from keras.utils import plot_model\n",
    "from keras.models import load_model\n",
    "from keras import backend as K\n",
    "import tensorflow as tf\n",
    "import librosa as lb\n",
    "import librosa.display\n",
    "import matplotlib.pyplot as plt\n",
    "from scipy.signal import freqz\n",
    "import os\n",
    "import glob\n",
    "import copy\n",
    "import seaborn as sns\n",
    "import re\n",
    "import pickle\n",
    "import operator\n",
    "import IPython.display as ipd\n",
    "import itertools\n",
    "import numpy.random as rng\n",
    "import random"
   ]
  },
  {
   "cell_type": "code",
   "execution_count": 2,
   "metadata": {},
   "outputs": [
    {
     "data": {
      "text/plain": [
       "True"
      ]
     },
     "execution_count": 2,
     "metadata": {},
     "output_type": "execute_result"
    }
   ],
   "source": [
    "tf.executing_eagerly()"
   ]
  },
  {
   "cell_type": "markdown",
   "metadata": {},
   "source": [
    "# Utility functions"
   ]
  },
  {
   "cell_type": "code",
   "execution_count": 3,
   "metadata": {},
   "outputs": [],
   "source": [
    "def filter_by_freq(target,threshold):\n",
    "    filtered = dict()\n",
    "    for key in target:\n",
    "        if len(target[key]) >= threshold:\n",
    "            filtered[key] = target[key]\n",
    "    return filtered\n",
    "\n",
    "#Load support set from selection\n",
    "def create_support_set(sel_keys,selection,total,filtered,full):\n",
    "    support_set = dict()\n",
    "    for i in range(0, len(sel_keys)):\n",
    "        support_set[sel_keys[i]] = filtered[sel_keys[i]][selection[i]]\n",
    "\n",
    "    #If true adds rare phrases (those with less than 12 instances)\n",
    "    if full:\n",
    "        #load support set for rare phrases (with less than 12 tokens)\n",
    "        rare_phrases = { k : total[k] for k in set(total) - set(filtered) }\n",
    "        for key in rare_phrases.keys():\n",
    "            support_set[key]= librosa.load(rare_phrases[key][0]) #Choose the first one\n",
    "    return support_set \n",
    "\n",
    "def remv_support_set(sel_keys,selection,filtered):\n",
    "    #Remove support set instances from filtered set. \n",
    "    new_filtered = copy.deepcopy(filtered)\n",
    "    for i in range(len(sel_keys)):\n",
    "        a = new_filtered[sel_keys[i]]\n",
    "        del a[selection[i]]\n",
    "        new_filtered[sel_keys[i]] = a\n",
    "    return new_filtered\n",
    "\n",
    "def split_set(new_filtered,train_size):\n",
    "    #Returns train and test set\n",
    "    train = dict()\n",
    "    test = dict()\n",
    "    for k in new_filtered.keys():\n",
    "        #train[k],test[k] = train_test_split(new_filtered[k],train_size=train_size, random_state=rand_state)\n",
    "        train[k],test[k] = train_test_split(new_filtered[k],train_size=train_size)\n",
    "    return train, test"
   ]
  },
  {
   "cell_type": "code",
   "execution_count": 4,
   "metadata": {},
   "outputs": [],
   "source": [
    "#Generate train set for k-shot learning\n",
    "def get_batch(dataset,k,n):\n",
    "    \"\"\"Create batch of 2*n pairs per class using up to k examples, n same class, n different class\"\"\"\n",
    "    pairs = []\n",
    "    labels = []\n",
    "    categories = dataset.keys()\n",
    "\n",
    "  #Create subset of dataset with only k elements per class\n",
    "    k_set = dict()\n",
    "    for cat in categories:\n",
    "        k_set[cat] = random.sample(dataset[cat],k) #Take k samples with no replacement per class\n",
    "\n",
    "    for i in range(n):\n",
    "        for cat in categories:\n",
    "            z1, z2 = random.choice(k_set[cat]), random.choice(k_set[cat])\n",
    "            pairs += [[z1,z2]] #Same class pair     \n",
    "          #Pick a a different category than current \"cat\"\n",
    "            while True:   \n",
    "                notcat = random.choice(list(categories))\n",
    "                if(notcat != cat):  \n",
    "                    break  \n",
    "            z1, z2 = random.choice(k_set[cat]), random.choice(k_set[notcat])\n",
    "            pairs += [[z1,z2]] #different class pair\n",
    "            labels += [1, 0] #1 to same pairs, 0 to contrastive\n",
    "    return np.array(pairs), np.array(labels)"
   ]
  },
  {
   "cell_type": "markdown",
   "metadata": {},
   "source": [
    "# Load features from all phrases"
   ]
  },
  {
   "cell_type": "code",
   "execution_count": 5,
   "metadata": {},
   "outputs": [],
   "source": [
    "with open(\"features_total.pkl\", \"rb\") as input_file:\n",
    "    total_features = pickle.load(input_file)"
   ]
  },
  {
   "cell_type": "code",
   "execution_count": 6,
   "metadata": {},
   "outputs": [],
   "source": [
    "#Transpose vectors and compute decibels\n",
    "for k in total_features.keys():\n",
    "    for i in range(len(total_features[k])):\n",
    "        total_features[k][i] = lb.amplitude_to_db(total_features[k][i],top_db=65.0)\n",
    "        total_features[k][i] = total_features[k][i].astype('int8')\n",
    "        #total_features[k][i] = np.transpose(total_features[k][i])"
   ]
  },
  {
   "cell_type": "code",
   "execution_count": 7,
   "metadata": {},
   "outputs": [],
   "source": [
    "#Get most common phrases\n",
    "filt_features = filter_by_freq(total_features,12)\n",
    "total_features = 0"
   ]
  },
  {
   "cell_type": "markdown",
   "metadata": {},
   "source": [
    "# Support set"
   ]
  },
  {
   "cell_type": "code",
   "execution_count": 8,
   "metadata": {},
   "outputs": [],
   "source": [
    "#Create support set from averages\n",
    "support_set = dict()\n",
    "for k in filt_features.keys():\n",
    "    support_set[k] = np.mean(filt_features[k],axis=0)"
   ]
  },
  {
   "cell_type": "code",
   "execution_count": null,
   "metadata": {},
   "outputs": [],
   "source": [
    "#Create support set from selection\n",
    "#Support set keys and indices. Remember to exclude them when loading test and train sets\n",
    "sel_keys = ['aa', 'ab', 'ac', 'ad', 'ae', 'af', 'ag','ah', 'ai', 'aj','ak','am','an','ao','ap',\n",
    "            'aq','ar','as','au','ba','bc','bd','be',\n",
    "            'bf','bi','bj','bl','bm','bp','br','bu','bx']\n",
    "selection = [0,3,6,0,7,5,6,6,1,11,6,5,2,5,6,7,11,7,9,5,4,7,4,6,4,5,5,5,0,1,3,1]\n",
    "support_set = create_support_set(sel_keys,selection,total_features,filt_features,full=False)"
   ]
  },
  {
   "cell_type": "code",
   "execution_count": 28,
   "metadata": {},
   "outputs": [
    {
     "ename": "NameError",
     "evalue": "name 'sel_keys' is not defined",
     "output_type": "error",
     "traceback": [
      "\u001b[0;31m---------------------------------------------------------------------------\u001b[0m",
      "\u001b[0;31mNameError\u001b[0m                                 Traceback (most recent call last)",
      "\u001b[0;32m<ipython-input-28-5a77ab0b0a00>\u001b[0m in \u001b[0;36m<module>\u001b[0;34m\u001b[0m\n\u001b[1;32m      1\u001b[0m \u001b[0;31m#Get filtered set without support set common phrase instances\u001b[0m\u001b[0;34m\u001b[0m\u001b[0;34m\u001b[0m\u001b[0;34m\u001b[0m\u001b[0m\n\u001b[0;32m----> 2\u001b[0;31m \u001b[0mfilt_features\u001b[0m \u001b[0;34m=\u001b[0m \u001b[0mremv_support_set\u001b[0m\u001b[0;34m(\u001b[0m\u001b[0msel_keys\u001b[0m\u001b[0;34m,\u001b[0m\u001b[0mselection\u001b[0m\u001b[0;34m,\u001b[0m\u001b[0mfilt_features\u001b[0m\u001b[0;34m)\u001b[0m\u001b[0;34m\u001b[0m\u001b[0;34m\u001b[0m\u001b[0m\n\u001b[0m",
      "\u001b[0;31mNameError\u001b[0m: name 'sel_keys' is not defined"
     ]
    }
   ],
   "source": [
    "#Get filtered set without support set common phrase instances\n",
    "filt_features = remv_support_set(sel_keys,selection,filt_features)"
   ]
  },
  {
   "cell_type": "code",
   "execution_count": 9,
   "metadata": {},
   "outputs": [],
   "source": [
    "#Get traning and test set (mfccs)\n",
    "train_set, test_set = split_set(filt_features,7)"
   ]
  },
  {
   "cell_type": "code",
   "execution_count": 10,
   "metadata": {},
   "outputs": [
    {
     "data": {
      "text/plain": [
       "<matplotlib.image.AxesImage at 0x7f2d66462710>"
      ]
     },
     "execution_count": 10,
     "metadata": {},
     "output_type": "execute_result"
    },
    {
     "data": {
      "image/png": "[encoded data removed]",
      "text/plain": [
       "<Figure size 432x288 with 1 Axes>"
      ]
     },
     "metadata": {
      "needs_background": "light"
     },
     "output_type": "display_data"
    }
   ],
   "source": [
    "#plt.imshow(np.transpose(filt_features['bj'][0]),aspect='auto')\n",
    "plt.imshow(np.transpose(support_set['aa']),aspect='auto')"
   ]
  },
  {
   "cell_type": "code",
   "execution_count": 11,
   "metadata": {},
   "outputs": [
    {
     "data": {
      "text/plain": [
       "<matplotlib.image.AxesImage at 0x7f2d65f24d30>"
      ]
     },
     "execution_count": 11,
     "metadata": {},
     "output_type": "execute_result"
    },
    {
     "data": {
      "image/png": "[encoded data removed]",
      "text/plain": [
       "<Figure size 432x288 with 1 Axes>"
      ]
     },
     "metadata": {
      "needs_background": "light"
     },
     "output_type": "display_data"
    }
   ],
   "source": [
    "plt.imshow(np.transpose(train_set['aj'][0]),aspect='auto')"
   ]
  },
  {
   "cell_type": "markdown",
   "metadata": {},
   "source": [
    "# Generate pairs"
   ]
  },
  {
   "cell_type": "code",
   "execution_count": 12,
   "metadata": {},
   "outputs": [],
   "source": [
    "train_pairs, train_labels =  get_batch(train_set,7,1000)\n",
    "num_train_pairs = len(train_pairs)\n",
    "\n",
    "#To know the maximum number that can be sampled for all classes\n",
    "min_phrases_test = min([len(i) for i in test_set.values()])\n",
    "\n",
    "test_pairs, test_labels = get_batch(test_set,min_phrases_test,100)\n",
    "num_test_pairs = len(test_pairs)"
   ]
  },
  {
   "cell_type": "code",
   "execution_count": 13,
   "metadata": {},
   "outputs": [],
   "source": [
    "te1 = test_pairs[:,0,:,:]\n",
    "te2 = test_pairs[:,1,:,:]\n",
    "tr1 = train_pairs[:,0,:,:]\n",
    "tr2 = train_pairs[:,1,:,:]\n",
    "support_set_array = np.array([s for s in list(support_set.values())])"
   ]
  },
  {
   "cell_type": "code",
   "execution_count": 14,
   "metadata": {},
   "outputs": [],
   "source": [
    "test_pairs = 0\n",
    "train_pairs = 0"
   ]
  },
  {
   "cell_type": "markdown",
   "metadata": {},
   "source": [
    "# Define Keras model"
   ]
  },
  {
   "cell_type": "code",
   "execution_count": 15,
   "metadata": {},
   "outputs": [],
   "source": [
    "def testModel(input_shape):\n",
    "    input_seq = Input(shape=input_shape)\n",
    "    x = Reshape((64,128,1))(input_seq)\n",
    "    x = Conv2D(8, (3,3), activation='relu')(x)\n",
    "    x = Conv2D(8, (3,3), activation='relu')(x)\n",
    "    x = Conv2D(8, (3,3), activation='relu')(x)\n",
    "    x = Conv2D(8, (3,3), activation='relu',padding=\"same\")(x)\n",
    "    x = Conv2D(8, (3,3), activation='relu')(x)\n",
    "    x = Conv2D(16, (3,3), activation='relu')(x)\n",
    "    x = Conv2D(16, (4,4), activation='relu')(x)\n",
    "    x = Conv2D(16, (4,4), activation='relu')(x)\n",
    "    x = Conv2D(16, (4,4), activation='relu',padding=\"same\")(x)\n",
    "    x = MaxPooling2D(2)(x)\n",
    "    x = TimeDistributed(Flatten())(x)\n",
    "    x = LSTM(512,return_sequences=True)(x)\n",
    "    x = LSTM(128,return_sequences=True)(x)\n",
    "    x = LSTM(128)(x)\n",
    "    x = Dense(128,activation='relu')(x)\n",
    "    x = Dense(128,activation='relu')(x)\n",
    "    x = Dense(128)(x)\n",
    "    x = Dropout(0.1)(x)\n",
    "    encoded = Activation(\"relu\")(x)\n",
    "    return Model(input_seq,encoded,name=\"LSTM\")"
   ]
  },
  {
   "cell_type": "code",
   "execution_count": 16,
   "metadata": {},
   "outputs": [],
   "source": [
    "def LSTM_branch2(input_shape):\n",
    "    input_seq = Input(shape=input_shape)\n",
    "    x = Bidirectional(LSTM(128,return_sequences=True),merge_mode='ave')(input_seq)\n",
    "    x = Bidirectional(LSTM(128,return_sequences=True),merge_mode='ave')(x)\n",
    "    x = Bidirectional(LSTM(128))(x)\n",
    "    x = Dense(128,activation='relu')(x)\n",
    "    x = Dense(128,activation='relu')(x)\n",
    "    x = Dense(128)(x)\n",
    "    x = Dropout(0.1)(x)\n",
    "    encoded = Activation(\"relu\")(x)\n",
    "    return Model(input_seq,encoded,name=\"LSTM\")"
   ]
  },
  {
   "cell_type": "code",
   "execution_count": 17,
   "metadata": {},
   "outputs": [],
   "source": [
    "def LSTM_branch(input_shape):\n",
    "    input_seq = Input(shape=input_shape)\n",
    "    x = LSTM(128,return_sequences=True)(input_seq)\n",
    "    x = LSTM(128,return_sequences=True)(x)\n",
    "    x = LSTM(128)(x)\n",
    "    x = Dense(128,activation='relu')(x)\n",
    "    x = Dense(128,activation='relu')(x)\n",
    "    x = Dense(128)(x)\n",
    "    x = Dropout(0.1)(x)\n",
    "    encoded = Activation(\"relu\")(x)\n",
    "    return Model(input_seq,encoded,name=\"LSTM\")"
   ]
  },
  {
   "cell_type": "code",
   "execution_count": 18,
   "metadata": {},
   "outputs": [],
   "source": [
    "# Loss and metrics\n",
    "def euclidean_distance(vects):\n",
    "    x, y = vects\n",
    "    #return K.sqrt(K.sum(K.square(x - y), axis=-1, keepdims=True))\n",
    "    sum_square = K.sum(K.square(x - y), axis=1, keepdims=True)\n",
    "    return K.sqrt(K.maximum(sum_square, K.epsilon()))\n",
    "\n",
    "\n",
    "def eucl_dist_output_shape(shapes):\n",
    "    shape1, shape2 = shapes\n",
    "    return (shape1[0], 1)\n",
    "\n",
    "\n",
    "def contrastive_loss(y_true, y_pred):\n",
    "    '''Contrastive loss from Hadsell-et-al.'06\n",
    "    http://yann.lecun.com/exdb/publis/pdf/hadsell-chopra-lecun-06.pdf\n",
    "    '''\n",
    "    margin = 1\n",
    "    square_pred = K.square(y_pred)\n",
    "    margin_square = K.square(K.maximum(margin - y_pred, 0))\n",
    "    return K.mean(y_true * square_pred + (1 - y_true) * margin_square)\n",
    "\n",
    "def compute_accuracy(y_true, y_pred):\n",
    "    '''Compute classification accuracy with a fixed threshold on distances.\n",
    "    '''\n",
    "    pred = y_pred.ravel() < 0.5\n",
    "    return np.mean(pred == y_true)"
   ]
  },
  {
   "cell_type": "code",
   "execution_count": 19,
   "metadata": {},
   "outputs": [],
   "source": [
    "input_shape = (64,128) #(Timesteps,n_features)\n",
    "lstm = LSTM_branch2(input_shape)\n",
    "inputA = Input(shape=input_shape,name=\"InputA\")\n",
    "inputB = Input(shape=input_shape,name=\"InputB\")\n",
    "encodedA = lstm(inputA)\n",
    "encodedB = lstm(inputB)"
   ]
  },
  {
   "cell_type": "code",
   "execution_count": 20,
   "metadata": {},
   "outputs": [
    {
     "name": "stdout",
     "output_type": "stream",
     "text": [
      "Model: \"LSTM\"\n",
      "_________________________________________________________________\n",
      "Layer (type)                 Output Shape              Param #   \n",
      "=================================================================\n",
      "input_1 (InputLayer)         (None, 64, 128)           0         \n",
      "_________________________________________________________________\n",
      "bidirectional_1 (Bidirection (None, 64, 128)           263168    \n",
      "_________________________________________________________________\n",
      "bidirectional_2 (Bidirection (None, 64, 128)           263168    \n",
      "_________________________________________________________________\n",
      "bidirectional_3 (Bidirection (None, 256)               263168    \n",
      "_________________________________________________________________\n",
      "dense_1 (Dense)              (None, 128)               32896     \n",
      "_________________________________________________________________\n",
      "dense_2 (Dense)              (None, 128)               16512     \n",
      "_________________________________________________________________\n",
      "dense_3 (Dense)              (None, 128)               16512     \n",
      "_________________________________________________________________\n",
      "dropout_1 (Dropout)          (None, 128)               0         \n",
      "_________________________________________________________________\n",
      "activation_1 (Activation)    (None, 128)               0         \n",
      "=================================================================\n",
      "Total params: 855,424\n",
      "Trainable params: 855,424\n",
      "Non-trainable params: 0\n",
      "_________________________________________________________________\n"
     ]
    }
   ],
   "source": [
    "lstm.summary()"
   ]
  },
  {
   "cell_type": "code",
   "execution_count": 21,
   "metadata": {},
   "outputs": [],
   "source": [
    "distance = Lambda(euclidean_distance,output_shape=eucl_dist_output_shape,name=\"distance\")([encodedA, encodedB])"
   ]
  },
  {
   "cell_type": "code",
   "execution_count": 22,
   "metadata": {},
   "outputs": [],
   "source": [
    "siameseLSTM = Model([inputA,inputB],distance)"
   ]
  },
  {
   "cell_type": "code",
   "execution_count": 23,
   "metadata": {},
   "outputs": [
    {
     "name": "stdout",
     "output_type": "stream",
     "text": [
      "Model: \"model_1\"\n",
      "__________________________________________________________________________________________________\n",
      "Layer (type)                    Output Shape         Param #     Connected to                     \n",
      "==================================================================================================\n",
      "InputA (InputLayer)             (None, 64, 128)      0                                            \n",
      "__________________________________________________________________________________________________\n",
      "InputB (InputLayer)             (None, 64, 128)      0                                            \n",
      "__________________________________________________________________________________________________\n",
      "LSTM (Model)                    (None, 128)          855424      InputA[0][0]                     \n",
      "                                                                 InputB[0][0]                     \n",
      "__________________________________________________________________________________________________\n",
      "distance (Lambda)               (None, 1)            0           LSTM[1][0]                       \n",
      "                                                                 LSTM[2][0]                       \n",
      "==================================================================================================\n",
      "Total params: 855,424\n",
      "Trainable params: 855,424\n",
      "Non-trainable params: 0\n",
      "__________________________________________________________________________________________________\n"
     ]
    }
   ],
   "source": [
    "siameseLSTM.summary()"
   ]
  },
  {
   "cell_type": "code",
   "execution_count": 24,
   "metadata": {},
   "outputs": [],
   "source": [
    "siameseLSTM.compile(optimizer='adam', loss=contrastive_loss)"
   ]
  },
  {
   "cell_type": "code",
   "execution_count": 25,
   "metadata": {},
   "outputs": [
    {
     "name": "stdout",
     "output_type": "stream",
     "text": [
      "Epoch 1/5\n",
      "64000/64000 [==============================] - 110s 2ms/step - loss: 0.0979\n",
      "Epoch 2/5\n",
      "64000/64000 [==============================] - 103s 2ms/step - loss: 0.0616\n",
      "Epoch 3/5\n",
      "64000/64000 [==============================] - 104s 2ms/step - loss: 0.0572\n",
      "Epoch 4/5\n",
      "64000/64000 [==============================] - 103s 2ms/step - loss: 0.0554\n",
      "Epoch 5/5\n",
      "64000/64000 [==============================] - 104s 2ms/step - loss: 0.0541\n"
     ]
    },
    {
     "data": {
      "text/plain": [
       "<keras.callbacks.callbacks.History at 0x7f2b53990f98>"
      ]
     },
     "execution_count": 25,
     "metadata": {},
     "output_type": "execute_result"
    }
   ],
   "source": [
    "#history = siameseLSTM.fit([tr1,tr2], train_labels,epochs=5,batch_size=256,shuffle=True)\n",
    "siameseLSTM.fit([tr1,tr2], train_labels,epochs=5,batch_size=256,shuffle=True)"
   ]
  },
  {
   "cell_type": "code",
   "execution_count": 26,
   "metadata": {},
   "outputs": [],
   "source": [
    "v_pred = siameseLSTM.predict([te1,te2])"
   ]
  },
  {
   "cell_type": "code",
   "execution_count": 27,
   "metadata": {},
   "outputs": [
    {
     "data": {
      "text/plain": [
       "0.95671875"
      ]
     },
     "execution_count": 27,
     "metadata": {},
     "output_type": "execute_result"
    }
   ],
   "source": [
    "compute_accuracy(test_labels,v_pred)"
   ]
  },
  {
   "cell_type": "code",
   "execution_count": 28,
   "metadata": {},
   "outputs": [],
   "source": [
    "import pandas as pd"
   ]
  },
  {
   "cell_type": "code",
   "execution_count": 29,
   "metadata": {},
   "outputs": [],
   "source": [
    "#Create classification set\n",
    "def create_classif_task(test_set):\n",
    "    classif_test = []\n",
    "    classif_labels = []\n",
    "\n",
    "    #use the full test set\n",
    "    for k in test_set.keys():\n",
    "        for a in test_set[k]:\n",
    "            classif_test.append(a)\n",
    "            classif_labels.append(k)\n",
    "    return (np.array(classif_test),classif_labels)\n",
    "\n",
    "def get_predictions(support_set,classif_test):\n",
    "    predictions = []\n",
    "    support_set_array = np.array([s for s in list(support_set.values())])\n",
    "    classif_test_repeated = np.repeat(classif_test,len(support_set_array),axis=0)\n",
    "    I, L = pd.factorize(list(support_set.keys()))\n",
    "    for k in range(len(classif_test)):\n",
    "        pred_support = siameseLSTM.predict([classif_test_repeated[32*k:32+32*k],support_set_array]).ravel()\n",
    "        pred_class = np.where(pred_support == np.min(pred_support))[0][0]\n",
    "        predictions.append(L[pred_class])\n",
    "    return predictions"
   ]
  },
  {
   "cell_type": "code",
   "execution_count": 30,
   "metadata": {},
   "outputs": [],
   "source": [
    "classif_test, classif_labels = create_classif_task(test_set)"
   ]
  },
  {
   "cell_type": "code",
   "execution_count": 82,
   "metadata": {},
   "outputs": [
    {
     "ename": "AttributeError",
     "evalue": "'int' object has no attribute 'keys'",
     "output_type": "error",
     "traceback": [
      "\u001b[0;31m---------------------------------------------------------------------------\u001b[0m",
      "\u001b[0;31mAttributeError\u001b[0m                            Traceback (most recent call last)",
      "\u001b[0;32m<ipython-input-82-60f5b90d6a92>\u001b[0m in \u001b[0;36m<module>\u001b[0;34m\u001b[0m\n\u001b[1;32m      1\u001b[0m \u001b[0;31m#Total syllables\u001b[0m\u001b[0;34m\u001b[0m\u001b[0;34m\u001b[0m\u001b[0;34m\u001b[0m\u001b[0m\n\u001b[0;32m----> 2\u001b[0;31m \u001b[0msum\u001b[0m\u001b[0;34m(\u001b[0m\u001b[0;34m[\u001b[0m\u001b[0mlen\u001b[0m\u001b[0;34m(\u001b[0m\u001b[0mfilt_features\u001b[0m\u001b[0;34m[\u001b[0m\u001b[0mk\u001b[0m\u001b[0;34m]\u001b[0m\u001b[0;34m)\u001b[0m \u001b[0;32mfor\u001b[0m \u001b[0mk\u001b[0m \u001b[0;32min\u001b[0m \u001b[0mfilt_features\u001b[0m\u001b[0;34m.\u001b[0m\u001b[0mkeys\u001b[0m\u001b[0;34m(\u001b[0m\u001b[0;34m)\u001b[0m\u001b[0;34m]\u001b[0m\u001b[0;34m)\u001b[0m\u001b[0;34m\u001b[0m\u001b[0;34m\u001b[0m\u001b[0m\n\u001b[0m",
      "\u001b[0;31mAttributeError\u001b[0m: 'int' object has no attribute 'keys'"
     ]
    }
   ],
   "source": [
    "#Total syllables\n",
    "sum([len(filt_features[k]) for k in filt_features.keys()])"
   ]
  },
  {
   "cell_type": "code",
   "execution_count": 31,
   "metadata": {},
   "outputs": [
    {
     "data": {
      "text/plain": [
       "809"
      ]
     },
     "execution_count": 31,
     "metadata": {},
     "output_type": "execute_result"
    }
   ],
   "source": [
    "#Test syllables\n",
    "len(classif_test)"
   ]
  },
  {
   "cell_type": "code",
   "execution_count": 32,
   "metadata": {},
   "outputs": [],
   "source": [
    "predictions = get_predictions(support_set,classif_test)"
   ]
  },
  {
   "cell_type": "code",
   "execution_count": 33,
   "metadata": {},
   "outputs": [
    {
     "data": {
      "text/plain": [
       "0.8825710754017305"
      ]
     },
     "execution_count": 33,
     "metadata": {},
     "output_type": "execute_result"
    }
   ],
   "source": [
    "boolean = [predictions[i] == classif_labels[i] for i in range(len(predictions))]\n",
    "np.mean(boolean)"
   ]
  },
  {
   "cell_type": "code",
   "execution_count": 34,
   "metadata": {},
   "outputs": [],
   "source": [
    "#accuracy per class\n",
    "accuracy = dict()\n",
    "for k in test_set.keys():\n",
    "    k_indices = list(filter(lambda x: classif_labels[x] == k, range(len(classif_labels))))\n",
    "    accuracy[k] = np.mean([predictions[i] == classif_labels[i] for i in k_indices])"
   ]
  },
  {
   "cell_type": "code",
   "execution_count": 35,
   "metadata": {},
   "outputs": [
    {
     "data": {
      "text/plain": [
       "{'aa': 0.7083333333333334,\n",
       " 'ab': 1.0,\n",
       " 'ac': 0.9545454545454546,\n",
       " 'ad': 0.9,\n",
       " 'ae': 1.0,\n",
       " 'af': 0.7837837837837838,\n",
       " 'ag': 1.0,\n",
       " 'ah': 0.8421052631578947,\n",
       " 'ai': 1.0,\n",
       " 'aj': 0.9696969696969697,\n",
       " 'ak': 0.967741935483871,\n",
       " 'am': 0.918918918918919,\n",
       " 'an': 0.9090909090909091,\n",
       " 'ao': 0.9444444444444444,\n",
       " 'ap': 1.0,\n",
       " 'aq': 0.8285714285714286,\n",
       " 'ar': 0.6060606060606061,\n",
       " 'as': 0.723404255319149,\n",
       " 'au': 0.8775510204081632,\n",
       " 'ba': 0.9444444444444444,\n",
       " 'bc': 0.9615384615384616,\n",
       " 'bd': 1.0,\n",
       " 'be': 1.0,\n",
       " 'bf': 1.0,\n",
       " 'bi': 1.0,\n",
       " 'bj': 1.0,\n",
       " 'bl': 1.0,\n",
       " 'bm': 0.7941176470588235,\n",
       " 'bp': 0.88,\n",
       " 'br': 0.8333333333333334,\n",
       " 'bu': 0.6875,\n",
       " 'bx': 0.8125}"
      ]
     },
     "execution_count": 35,
     "metadata": {},
     "output_type": "execute_result"
    }
   ],
   "source": [
    "accuracy"
   ]
  }
 ],
 "metadata": {
  "kernelspec": {
   "display_name": "Python 3",
   "language": "python",
   "name": "python3"
  },
  "language_info": {
   "codemirror_mode": {
    "name": "ipython",
    "version": 3
   },
   "file_extension": ".py",
   "mimetype": "text/x-python",
   "name": "python",
   "nbconvert_exporter": "python",
   "pygments_lexer": "ipython3",
   "version": "3.6.9"
  }
 },
 "nbformat": 4,
 "nbformat_minor": 2
}
